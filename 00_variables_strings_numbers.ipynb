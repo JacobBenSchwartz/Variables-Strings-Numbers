{
  "cells": [
    {
      "cell_type": "markdown",
      "metadata": {
        "id": "aLK6qF5PB_by"
      },
      "source": [
        "## Variables"
      ]
    },
    {
      "cell_type": "markdown",
      "metadata": {},
      "source": [
        "A **variable** is a way of storing a reference to data that you can recall later. Rather than having to type out the data long-hand over and over again, you can simply type the variable name. This will become especially useful as our data types grow more complex."
      ]
    },
    {
      "cell_type": "code",
      "execution_count": null,
      "metadata": {
        "id": "JLTMQ6_2B_b0"
      },
      "outputs": [],
      "source": [
        "# `greeting` is a variable; \"Hello world!\" is a string\n",
        "greeting = \"Hello world!\""
      ]
    },
    {
      "cell_type": "code",
      "execution_count": null,
      "metadata": {
        "id": "cZbnXEVXB_b1"
      },
      "outputs": [],
      "source": [
        "# `print()` is a function\n",
        "print(greeting)"
      ]
    },
    {
      "cell_type": "code",
      "execution_count": null,
      "metadata": {
        "id": "TOzUs8zPB_b1"
      },
      "outputs": [],
      "source": [
        "# What happens when we evaluate this cell?\n",
        "greeting"
      ]
    },
    {
      "cell_type": "markdown",
      "metadata": {},
      "source": [
        "As you can guess by the name, variables tend to change. Let's try reassigning another string to the variable `greeting`:"
      ]
    },
    {
      "cell_type": "code",
      "execution_count": null,
      "metadata": {},
      "outputs": [],
      "source": [
        "greeting = \"Hello, Intro to DH!\""
      ]
    },
    {
      "cell_type": "code",
      "execution_count": null,
      "metadata": {},
      "outputs": [],
      "source": [
        "# Your turn --- how do we **print** the variable?"
      ]
    },
    {
      "cell_type": "markdown",
      "metadata": {},
      "source": [
        "Some languages support **constants** in addition to variables. Constants don't change.\n",
        "\n",
        "Python doesn't support constants, so we have to rely on convention: UPPERCASE variables are treated as constants and should not be reassigned."
      ]
    },
    {
      "cell_type": "code",
      "execution_count": null,
      "metadata": {},
      "outputs": [],
      "source": [
        "I_SHOULD_NEVER_CHANGE = \"this is a constant\""
      ]
    },
    {
      "cell_type": "code",
      "execution_count": null,
      "metadata": {},
      "outputs": [],
      "source": [
        "I_SHOULD_NEVER_CHANGE"
      ]
    },
    {
      "cell_type": "code",
      "execution_count": null,
      "metadata": {},
      "outputs": [],
      "source": [
        "I_SHOULD_NEVER_CHANGE = \"uh-oh! don't do this!!!\""
      ]
    },
    {
      "cell_type": "code",
      "execution_count": null,
      "metadata": {},
      "outputs": [],
      "source": [
        "I_SHOULD_NEVER_CHANGE"
      ]
    },
    {
      "cell_type": "markdown",
      "metadata": {},
      "source": [
        "Pythonic code follows a number of conventions for variables:\n",
        "\n",
        "1. Uppercase variables are treated as constants\n",
        "2. Variables should use snake_case, not camelCase\n",
        "3. Variables cannot being with a number, only a letter or an underscore\n",
        "4. Variables can only contain letters, numbers, and underscores"
      ]
    },
    {
      "cell_type": "markdown",
      "metadata": {
        "id": "i9cbXHSUpeEJ"
      },
      "source": [
        "## Strings"
      ]
    },
    {
      "cell_type": "markdown",
      "metadata": {},
      "source": [
        "A **string** is what we think of as text. As you can imagine, doing computational textual analysis involves working a lot with strings.\n",
        "\n",
        "Under the hood, strings are fascinatingly complex. For our purposes, you mainly need to understand that a Python string is UTF-8 encoded, meaning it supports complex characters (among other features), and it is enclosed in single or double quotation marks."
      ]
    },
    {
      "cell_type": "code",
      "execution_count": null,
      "metadata": {},
      "outputs": [],
      "source": [
        "# A literal is data that is declared directly -- it is **literally** what it is\n",
        "\"this is a string **literal**\""
      ]
    },
    {
      "cell_type": "code",
      "execution_count": null,
      "metadata": {
        "id": "e6_bNdg5B_b3"
      },
      "outputs": [],
      "source": [
        "ex_1  = \"This is a string.\"\n",
        "print(ex_1)"
      ]
    },
    {
      "cell_type": "code",
      "execution_count": null,
      "metadata": {
        "id": "DEmVQKnLB_b3"
      },
      "outputs": [],
      "source": [
        "ex_2 = 'This is also a string'\n",
        "print(ex_2)"
      ]
    },
    {
      "cell_type": "code",
      "execution_count": null,
      "metadata": {
        "id": "6N7JobIrB_b3"
      },
      "outputs": [],
      "source": [
        "ex_3 = \"Here is a string.'\n",
        "print(ex_3)"
      ]
    },
    {
      "cell_type": "code",
      "execution_count": null,
      "metadata": {
        "id": "pwaxgu1HB_b3"
      },
      "outputs": [],
      "source": [
        "ex_4 = 'I asked the question, \"When should I use single quotes.\"'\n",
        "print(ex_4)"
      ]
    },
    {
      "cell_type": "code",
      "execution_count": null,
      "metadata": {
        "id": "1E3MwY0DB_b3"
      },
      "outputs": [],
      "source": [
        "historian = \"edward gibbon\"\n",
        "print(historian)"
      ]
    },
    {
      "cell_type": "code",
      "execution_count": null,
      "metadata": {
        "id": "ComprGlSB_b4"
      },
      "outputs": [],
      "source": [
        "print(historian.title())"
      ]
    },
    {
      "cell_type": "code",
      "execution_count": null,
      "metadata": {
        "id": "c-GaA4_JB_b4"
      },
      "outputs": [],
      "source": [
        "# What happens if we forget the parentheses on `title()`?\n",
        "print(historian.title)"
      ]
    },
    {
      "cell_type": "markdown",
      "metadata": {},
      "source": [
        "You can also write multiline strings with three quotation marks on either side. When we learn about writing classes and functions, you'll see multiline strings as ways of documenting what functions do."
      ]
    },
    {
      "cell_type": "code",
      "execution_count": 2,
      "metadata": {},
      "outputs": [],
      "source": [
        "multiline_string = \"\"\"\n",
        "I'm on multiple lines!\n",
        "\n",
        "Whoa!\n",
        "\"\"\""
      ]
    },
    {
      "cell_type": "code",
      "execution_count": null,
      "metadata": {},
      "outputs": [],
      "source": [
        "print(multiline_string)"
      ]
    },
    {
      "cell_type": "code",
      "execution_count": null,
      "metadata": {
        "id": "k5K8KbEqB_b4"
      },
      "outputs": [],
      "source": [
        "novelist = \"Becky Chambers\"\n",
        "print(novelist.lower())"
      ]
    },
    {
      "cell_type": "code",
      "execution_count": null,
      "metadata": {
        "id": "Yo-qC0MwB_b4"
      },
      "outputs": [],
      "source": [
        "\"becky\" == \"becky\""
      ]
    },
    {
      "cell_type": "code",
      "execution_count": null,
      "metadata": {
        "id": "QbBcRQZfB_b4"
      },
      "outputs": [],
      "source": [
        "\"becky\" == \"Becky\""
      ]
    },
    {
      "cell_type": "code",
      "execution_count": null,
      "metadata": {
        "id": "6bJmR4ZSB_b4"
      },
      "outputs": [],
      "source": [
        "first_name = \"ada\"\n",
        "last_name = \"lovelace\""
      ]
    },
    {
      "cell_type": "code",
      "execution_count": null,
      "metadata": {
        "id": "ccEVnJY-B_b4"
      },
      "outputs": [],
      "source": [
        "full_name = first_name + \" \" + last_name\n",
        "print(full_name)"
      ]
    },
    {
      "cell_type": "code",
      "execution_count": null,
      "metadata": {
        "id": "s3ukpffIB_b4"
      },
      "outputs": [],
      "source": [
        "greeting = f\" Hello, {first_name} {last_name}\"\n",
        "print(greeting.title())"
      ]
    },
    {
      "cell_type": "markdown",
      "metadata": {
        "id": "gFz2JAh8B_b4"
      },
      "source": [
        "## Whitespace"
      ]
    },
    {
      "cell_type": "code",
      "execution_count": null,
      "metadata": {
        "id": "O4d0bejVB_b4"
      },
      "outputs": [],
      "source": [
        "print(\"tab\")"
      ]
    },
    {
      "cell_type": "code",
      "execution_count": null,
      "metadata": {
        "id": "8JguVX8QB_b4"
      },
      "outputs": [],
      "source": [
        "print(\"\\ttab\")"
      ]
    },
    {
      "cell_type": "code",
      "execution_count": null,
      "metadata": {
        "id": "9XqoF39uB_b4"
      },
      "outputs": [],
      "source": [
        "print(\"Languages: \\nGreek\\nLatin\\nEnglish\")"
      ]
    },
    {
      "cell_type": "code",
      "execution_count": null,
      "metadata": {
        "id": "abf-wbFVB_b4"
      },
      "outputs": [],
      "source": [
        "str_rspace = \"string       \"\n",
        "print(str_rspace)"
      ]
    },
    {
      "cell_type": "code",
      "execution_count": null,
      "metadata": {
        "id": "B0MQPD2_B_b4"
      },
      "outputs": [],
      "source": [
        "print(str_rspace.rstrip())"
      ]
    },
    {
      "cell_type": "code",
      "execution_count": null,
      "metadata": {
        "id": "PtN_oFpCB_b5"
      },
      "outputs": [],
      "source": [
        "example = str_rspace + \".\"\n",
        "print(example)"
      ]
    },
    {
      "cell_type": "code",
      "execution_count": null,
      "metadata": {
        "id": "49wF2WPMB_b5"
      },
      "outputs": [],
      "source": [
        "example_2 = str_rspace.rstrip() + \".\"\n",
        "print(example_2)"
      ]
    },
    {
      "cell_type": "markdown",
      "metadata": {
        "id": "6lXtFFQ0B_b5"
      },
      "source": [
        "## Numbers"
      ]
    },
    {
      "cell_type": "code",
      "execution_count": null,
      "metadata": {
        "id": "PzEDVoWwB_b5"
      },
      "outputs": [],
      "source": [
        "# integers\n",
        "238 + 4834"
      ]
    },
    {
      "cell_type": "code",
      "execution_count": null,
      "metadata": {
        "id": "4J0s8k45B_b5"
      },
      "outputs": [],
      "source": [
        "19 - 7"
      ]
    },
    {
      "cell_type": "code",
      "execution_count": null,
      "metadata": {
        "id": "hA-9haewB_b5"
      },
      "outputs": [],
      "source": [
        "54 * 4"
      ]
    },
    {
      "cell_type": "code",
      "execution_count": null,
      "metadata": {
        "id": "14LxsedTB_b5"
      },
      "outputs": [],
      "source": [
        "num = 45"
      ]
    },
    {
      "cell_type": "code",
      "execution_count": null,
      "metadata": {
        "id": "3mKwnS3gB_b5"
      },
      "outputs": [],
      "source": [
        "num"
      ]
    },
    {
      "cell_type": "code",
      "execution_count": null,
      "metadata": {
        "id": "PDogTSWoB_b5"
      },
      "outputs": [],
      "source": [
        "num + 5"
      ]
    },
    {
      "cell_type": "code",
      "execution_count": null,
      "metadata": {
        "id": "YUb8QZJLB_b5"
      },
      "outputs": [],
      "source": [
        "type(num)"
      ]
    },
    {
      "cell_type": "code",
      "execution_count": null,
      "metadata": {
        "id": "YxNBSpHkB_b5"
      },
      "outputs": [],
      "source": [
        "30 / 10  # this will return a float"
      ]
    },
    {
      "cell_type": "code",
      "execution_count": null,
      "metadata": {
        "id": "QZ3NwuPzB_b5"
      },
      "outputs": [],
      "source": [
        "f = 30 / 7"
      ]
    },
    {
      "cell_type": "code",
      "execution_count": null,
      "metadata": {
        "id": "sp-kh3TaB_b5"
      },
      "outputs": [],
      "source": [
        "f"
      ]
    },
    {
      "cell_type": "code",
      "execution_count": null,
      "metadata": {
        "id": "UDRnydXbB_b6"
      },
      "outputs": [],
      "source": [
        "type(f)"
      ]
    },
    {
      "cell_type": "code",
      "execution_count": null,
      "metadata": {
        "id": "LDcm4C4gB_b6"
      },
      "outputs": [],
      "source": [
        "3 ** 3"
      ]
    }
  ],
  "metadata": {
    "colab": {
      "provenance": []
    },
    "kernelspec": {
      "display_name": ".venv",
      "language": "python",
      "name": "python3"
    },
    "language_info": {
      "codemirror_mode": {
        "name": "ipython",
        "version": 3
      },
      "file_extension": ".py",
      "mimetype": "text/x-python",
      "name": "python",
      "nbconvert_exporter": "python",
      "pygments_lexer": "ipython3",
      "version": "3.12.7"
    }
  },
  "nbformat": 4,
  "nbformat_minor": 0
}
