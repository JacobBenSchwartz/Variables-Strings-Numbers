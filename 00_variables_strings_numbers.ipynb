{
  "cells": [
    {
      "cell_type": "markdown",
      "metadata": {
        "id": "aLK6qF5PB_by"
      },
      "source": [
        "## Variables"
      ]
    },
    {
      "cell_type": "code",
      "execution_count": null,
      "metadata": {
        "id": "JLTMQ6_2B_b0"
      },
      "outputs": [],
      "source": [
        "greeting = \"Hello world!\""
      ]
    },
    {
      "cell_type": "code",
      "execution_count": null,
      "metadata": {
        "id": "cZbnXEVXB_b1"
      },
      "outputs": [],
      "source": [
        "print(greeting)"
      ]
    },
    {
      "cell_type": "code",
      "execution_count": null,
      "metadata": {
        "id": "TOzUs8zPB_b1"
      },
      "outputs": [],
      "source": [
        "greeting"
      ]
    },
    {
      "cell_type": "markdown",
      "source": [
        "##Strings"
      ],
      "metadata": {
        "id": "i9cbXHSUpeEJ"
      }
    },
    {
      "cell_type": "code",
      "execution_count": null,
      "metadata": {
        "id": "e6_bNdg5B_b3"
      },
      "outputs": [],
      "source": [
        "ex_1  = \"This is a string.\"\n",
        "print(ex_1)"
      ]
    },
    {
      "cell_type": "code",
      "execution_count": null,
      "metadata": {
        "id": "DEmVQKnLB_b3"
      },
      "outputs": [],
      "source": [
        "ex_2 = 'This is also a string'\n",
        "print(ex_2)"
      ]
    },
    {
      "cell_type": "code",
      "execution_count": null,
      "metadata": {
        "id": "6N7JobIrB_b3"
      },
      "outputs": [],
      "source": [
        "ex_3 = \"Here is a string.'\n",
        "print(ex_3)"
      ]
    },
    {
      "cell_type": "code",
      "execution_count": null,
      "metadata": {
        "id": "pwaxgu1HB_b3"
      },
      "outputs": [],
      "source": [
        "ex_4 = 'I asked the question, \"When should I use single quotes.\"'\n",
        "print(ex_4)"
      ]
    },
    {
      "cell_type": "code",
      "execution_count": null,
      "metadata": {
        "id": "1E3MwY0DB_b3"
      },
      "outputs": [],
      "source": [
        "historian = \"edward gibbon\"\n",
        "print(historian)"
      ]
    },
    {
      "cell_type": "code",
      "execution_count": null,
      "metadata": {
        "id": "ComprGlSB_b4"
      },
      "outputs": [],
      "source": [
        "print(historian.title())"
      ]
    },
    {
      "cell_type": "code",
      "execution_count": null,
      "metadata": {
        "id": "c-GaA4_JB_b4"
      },
      "outputs": [],
      "source": [
        "print(historian.title)"
      ]
    },
    {
      "cell_type": "code",
      "execution_count": null,
      "metadata": {
        "id": "k5K8KbEqB_b4"
      },
      "outputs": [],
      "source": [
        "novelist = \"Becky Chambers\"\n",
        "print(novelist.lower())"
      ]
    },
    {
      "cell_type": "code",
      "execution_count": null,
      "metadata": {
        "id": "Yo-qC0MwB_b4"
      },
      "outputs": [],
      "source": [
        "\"becky\" == \"becky\""
      ]
    },
    {
      "cell_type": "code",
      "execution_count": null,
      "metadata": {
        "id": "QbBcRQZfB_b4"
      },
      "outputs": [],
      "source": [
        "\"becky\" == \"Becky\""
      ]
    },
    {
      "cell_type": "code",
      "execution_count": null,
      "metadata": {
        "id": "6bJmR4ZSB_b4"
      },
      "outputs": [],
      "source": [
        "first_name = \"ada\"\n",
        "last_name = \"lovelace\""
      ]
    },
    {
      "cell_type": "code",
      "execution_count": null,
      "metadata": {
        "id": "ccEVnJY-B_b4"
      },
      "outputs": [],
      "source": [
        "full_name = first_name + \" \" + last_name\n",
        "print(full_name)"
      ]
    },
    {
      "cell_type": "code",
      "execution_count": null,
      "metadata": {
        "id": "s3ukpffIB_b4"
      },
      "outputs": [],
      "source": [
        "greeting = f\" Hello, {first_name} {last_name}\"\n",
        "print(greeting.title())"
      ]
    },
    {
      "cell_type": "markdown",
      "metadata": {
        "id": "gFz2JAh8B_b4"
      },
      "source": [
        "## Whitespace"
      ]
    },
    {
      "cell_type": "code",
      "execution_count": null,
      "metadata": {
        "id": "O4d0bejVB_b4"
      },
      "outputs": [],
      "source": [
        "print(\"tab\")"
      ]
    },
    {
      "cell_type": "code",
      "execution_count": null,
      "metadata": {
        "id": "8JguVX8QB_b4"
      },
      "outputs": [],
      "source": [
        "print(\"\\ttab\")"
      ]
    },
    {
      "cell_type": "code",
      "execution_count": null,
      "metadata": {
        "id": "9XqoF39uB_b4"
      },
      "outputs": [],
      "source": [
        "print(\"Languages: \\nGreek\\nLatin\\nEnglish\")"
      ]
    },
    {
      "cell_type": "code",
      "execution_count": null,
      "metadata": {
        "id": "abf-wbFVB_b4"
      },
      "outputs": [],
      "source": [
        "str_rspace = \"string       \"\n",
        "print(str_rspace)"
      ]
    },
    {
      "cell_type": "code",
      "execution_count": null,
      "metadata": {
        "id": "B0MQPD2_B_b4"
      },
      "outputs": [],
      "source": [
        "print(str_rspace.rstrip())"
      ]
    },
    {
      "cell_type": "code",
      "execution_count": null,
      "metadata": {
        "id": "PtN_oFpCB_b5"
      },
      "outputs": [],
      "source": [
        "example = str_rspace + \".\"\n",
        "print(example)"
      ]
    },
    {
      "cell_type": "code",
      "execution_count": null,
      "metadata": {
        "id": "49wF2WPMB_b5"
      },
      "outputs": [],
      "source": [
        "example_2 = str_rspace.rstrip() + \".\"\n",
        "print(example_2)"
      ]
    },
    {
      "cell_type": "markdown",
      "metadata": {
        "id": "6lXtFFQ0B_b5"
      },
      "source": [
        "## Numbers"
      ]
    },
    {
      "cell_type": "code",
      "execution_count": null,
      "metadata": {
        "id": "PzEDVoWwB_b5"
      },
      "outputs": [],
      "source": [
        "# integers\n",
        "238 + 4834"
      ]
    },
    {
      "cell_type": "code",
      "execution_count": null,
      "metadata": {
        "id": "4J0s8k45B_b5"
      },
      "outputs": [],
      "source": [
        "19 - 7"
      ]
    },
    {
      "cell_type": "code",
      "execution_count": null,
      "metadata": {
        "id": "hA-9haewB_b5"
      },
      "outputs": [],
      "source": [
        "54 * 4"
      ]
    },
    {
      "cell_type": "code",
      "execution_count": null,
      "metadata": {
        "id": "14LxsedTB_b5"
      },
      "outputs": [],
      "source": [
        "num = 45"
      ]
    },
    {
      "cell_type": "code",
      "execution_count": null,
      "metadata": {
        "id": "3mKwnS3gB_b5"
      },
      "outputs": [],
      "source": [
        "num"
      ]
    },
    {
      "cell_type": "code",
      "execution_count": null,
      "metadata": {
        "id": "PDogTSWoB_b5"
      },
      "outputs": [],
      "source": [
        "num + 5"
      ]
    },
    {
      "cell_type": "code",
      "execution_count": null,
      "metadata": {
        "id": "YUb8QZJLB_b5"
      },
      "outputs": [],
      "source": [
        "type(num)"
      ]
    },
    {
      "cell_type": "code",
      "execution_count": null,
      "metadata": {
        "id": "YxNBSpHkB_b5"
      },
      "outputs": [],
      "source": [
        "30 / 10  # this will return a float"
      ]
    },
    {
      "cell_type": "code",
      "execution_count": null,
      "metadata": {
        "id": "QZ3NwuPzB_b5"
      },
      "outputs": [],
      "source": [
        "f = 30 / 7"
      ]
    },
    {
      "cell_type": "code",
      "execution_count": null,
      "metadata": {
        "id": "sp-kh3TaB_b5"
      },
      "outputs": [],
      "source": [
        "f"
      ]
    },
    {
      "cell_type": "code",
      "execution_count": null,
      "metadata": {
        "id": "UDRnydXbB_b6"
      },
      "outputs": [],
      "source": [
        "type(f)"
      ]
    },
    {
      "cell_type": "code",
      "execution_count": null,
      "metadata": {
        "id": "LDcm4C4gB_b6"
      },
      "outputs": [],
      "source": [
        "3 ** 3"
      ]
    }
  ],
  "metadata": {
    "kernelspec": {
      "display_name": "Python 3 (ipykernel)",
      "language": "python",
      "name": "python3"
    },
    "language_info": {
      "codemirror_mode": {
        "name": "ipython",
        "version": 3
      },
      "file_extension": ".py",
      "mimetype": "text/x-python",
      "name": "python",
      "nbconvert_exporter": "python",
      "pygments_lexer": "ipython3",
      "version": "3.8.5"
    },
    "colab": {
      "provenance": []
    }
  },
  "nbformat": 4,
  "nbformat_minor": 0
}